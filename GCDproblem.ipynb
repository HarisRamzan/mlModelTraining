{
  "nbformat": 4,
  "nbformat_minor": 0,
  "metadata": {
    "colab": {
      "name": "Untitled2.ipynb",
      "provenance": [],
      "collapsed_sections": []
    },
    "kernelspec": {
      "name": "python3",
      "display_name": "Python 3"
    }
  },
  "cells": [
    {
      "cell_type": "code",
      "metadata": {
        "id": "Dq-B83jo4glp",
        "outputId": "5a170477-184b-4a9e-f029-eaeef7d2c5ec",
        "colab": {
          "base_uri": "https://localhost:8080/"
        }
      },
      "source": [
        "def computegreatestcommondivisor(a,b): \n",
        "   while(b): \n",
        "       a, b = b, a % b \n",
        "   return a\n",
        "   \n",
        "def buychocolate(havemoney,priceofchocolate):\n",
        "    totalchocolatebuy=havemoney/priceofchocolate;\n",
        "    return totalchocolatebuy\n",
        "\n",
        "Bashir = input(\"Give money to Bashir\"); \n",
        "bashirmoney=int(Bashir);\n",
        "Ali = input(\"Give money to Ali\"); \n",
        "alimoney=int(Ali)\n",
        "\n",
        "chocolatesbothcanbuyprice=computegreatestcommondivisor(bashirmoney,alimoney)\n",
        "print(\"Both need to buy chocolate having price of\",chocolatesbothcanbuyprice)\n",
        "\n",
        "totalchocolatesbashirbought=int(buychocolate(bashirmoney,chocolatesbothcanbuyprice))\n",
        "totalchocolatesalibought=int(buychocolate(alimoney,chocolatesbothcanbuyprice))\n",
        "\n",
        "print(\"bashir bought total chocolates\",totalchocolatesbashirbought,\"having price\",chocolatesbothcanbuyprice)\n",
        "print(\"Ali bought total chocolates\",totalchocolatesalibought,\"having price\",chocolatesbothcanbuyprice)\n",
        "\n",
        "if totalchocolatesbashirbought < totalchocolatesalibought:\n",
        "    doublepricesellbashir=(chocolatesbothcanbuyprice*2)*totalchocolatesbashirbought;\n",
        "    leastpricesellali=chocolatesbothcanbuyprice*(3/2)*totalchocolatesalibought\n",
        "    print(\"ali total earning at least price\",leastpricesellali)\n",
        "    print(\"bashir total earning at double price\",doublepricesellbashir)\n",
        "elif totalchocolatesalibought < totalchocolatesbashirbought:\n",
        "    doublepricesellali=(chocolatesbothcanbuyprice*2)*totalchocolatesalibought;\n",
        "    leastpricesellbashir=chocolatesbothcanbuyprice*(3/2)*totalchocolatesbashirbought\n",
        "    print('bashir total earning at least price',leastpricesellbashir)\n",
        "    print('ali total earning at double price',doublepricesellali)\n",
        "else:\n",
        "    print(\".............\");\n",
        "    "
      ],
      "execution_count": 1,
      "outputs": [
        {
          "output_type": "stream",
          "text": [
            "Give money to Bashir30\n",
            "Give money to Ali12\n",
            "Both need to buy chocolate having price of 6\n",
            "bashir bought total chocolates 5 having price 6\n",
            "Ali bought total chocolates 2 having price 6\n",
            "bashir total earning at least price 45.0\n",
            "ali total earning at double price 24\n"
          ],
          "name": "stdout"
        }
      ]
    }
  ]
}